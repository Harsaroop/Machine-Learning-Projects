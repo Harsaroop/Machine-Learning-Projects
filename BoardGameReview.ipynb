{
  "nbformat": 4,
  "nbformat_minor": 0,
  "metadata": {
    "colab": {
      "name": "BoardGameReview.ipynb",
      "provenance": [],
      "authorship_tag": "ABX9TyNiOuBW7CphrM4ibDAh5toR",
      "include_colab_link": true
    },
    "kernelspec": {
      "name": "python3",
      "display_name": "Python 3"
    },
    "language_info": {
      "name": "python"
    }
  },
  "cells": [
    {
      "cell_type": "markdown",
      "metadata": {
        "id": "view-in-github",
        "colab_type": "text"
      },
      "source": [
        "<a href=\"https://colab.research.google.com/github/Harsaroop/Machine-Learning-Projects/blob/main/BoardGameReview.ipynb\" target=\"_parent\"><img src=\"https://colab.research.google.com/assets/colab-badge.svg\" alt=\"Open In Colab\"/></a>"
      ]
    },
    {
      "cell_type": "code",
      "execution_count": 1,
      "metadata": {
        "id": "T8fJtaCnQLDx"
      },
      "outputs": [],
      "source": [
        "import pandas as pd \n",
        "import matplotlib.pyplot as plt\n",
        "import seaborn as sns\n",
        "from sklearn.model_selection import train_test_split\n",
        "from sklearn.linear_model import LinearRegression"
      ]
    },
    {
      "cell_type": "code",
      "source": [
        "uname = \"harsaroop.singh0530\"\n",
        "!git config --global user.email '$uname@gmail.com'\n",
        "!git config --global user.name '$uname'\n",
        "\n",
        "\n",
        "from getpass import getpass\n",
        "password = getpass('Password:GobindSingh13')\n",
        "!git clone https://github.com/Harsaroop/Machine-Learning-Projects\n",
        "%cd Machine-Learning-Projects/\n",
        "# create a file, then add it to stage\n",
        "!git add BoardGameReview.ipynb\n",
        "!git commit -m 'First commit'  # commit in Colab\n",
        "!git push origin master          # push to github"
      ],
      "metadata": {
        "colab": {
          "base_uri": "https://localhost:8080/"
        },
        "id": "mc9YoKAqRhH4",
        "outputId": "f48a7abf-efe3-4ebf-b8ad-a2f49af82626"
      },
      "execution_count": 10,
      "outputs": [
        {
          "output_type": "stream",
          "name": "stdout",
          "text": [
            "Password:GobindSingh13··········\n",
            "Cloning into 'Machine-Learning-Projects'...\n",
            "remote: Enumerating objects: 3, done.\u001b[K\n",
            "remote: Counting objects: 100% (3/3), done.\u001b[K\n",
            "remote: Compressing objects: 100% (2/2), done.\u001b[K\n",
            "remote: Total 3 (delta 0), reused 0 (delta 0), pack-reused 0\u001b[K\n",
            "Unpacking objects: 100% (3/3), done.\n",
            "/root/Machine-Learning-Projects\n",
            "fatal: pathspec 'BoardGameReview.ipynb' did not match any files\n",
            "On branch main\n",
            "Your branch is up to date with 'origin/main'.\n",
            "\n",
            "nothing to commit, working tree clean\n",
            "error: src refspec master does not match any.\n",
            "error: failed to push some refs to 'https://github.com/Harsaroop/Machine-Learning-Projects'\n"
          ]
        }
      ]
    },
    {
      "cell_type": "code",
      "source": [
        ""
      ],
      "metadata": {
        "id": "zf-RQYZbSNhN"
      },
      "execution_count": null,
      "outputs": []
    }
  ]
}